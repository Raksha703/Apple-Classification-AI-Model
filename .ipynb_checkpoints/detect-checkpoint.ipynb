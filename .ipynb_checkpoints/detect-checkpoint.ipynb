{
 "cells": [
  {
   "cell_type": "code",
   "execution_count": 1,
   "id": "0736774c-7ae6-4526-a00c-207eed4d36d5",
   "metadata": {},
   "outputs": [],
   "source": [
    "import tensorflow as tf\n",
    "from tensorflow import keras\n",
    "from tensorflow.keras.models import  load_model\n",
    "import numpy as np \n"
   ]
  },
  {
   "cell_type": "code",
   "execution_count": 4,
   "id": "02928561-4134-4bd5-85f8-7b9be0b0f69e",
   "metadata": {},
   "outputs": [],
   "source": [
    "model = load_model('Image_classify.keras')\n",
    "data_cat = ['apple',\n",
    " 'banana']\n",
    "img_height = 180\n",
    "img_width = 180"
   ]
  },
  {
   "cell_type": "code",
   "execution_count": 8,
   "id": "38b716e0-9c7d-4f58-92c0-6d7f6ed5cd92",
   "metadata": {},
   "outputs": [
    {
     "name": "stdout",
     "output_type": "stream",
     "text": [
      "1/1 [==============================] - 0s 38ms/step\n",
      "Veg/Fruit in image is apple\n",
      "With accuracy of 54.97186779975891\n"
     ]
    }
   ],
   "source": [
    "image=\"a4.jpeg\"\n",
    "\n",
    "image_load = tf.keras.utils.load_img(image, target_size=(img_height,img_width))\n",
    "img_arr = tf.keras.utils.array_to_img(image_load)\n",
    "img_bat=tf.expand_dims(img_arr,0)\n",
    "\n",
    "predict = model.predict(img_bat)\n",
    "\n",
    "score = tf.nn.softmax(predict)\n",
    "st.image(image, width=200)\n",
    "print('Veg/Fruit in image is ' + data_cat[np.argmax(score)])\n",
    "print('With accuracy of ' + str(np.max(score)*100))"
   ]
  },
  {
   "cell_type": "code",
   "execution_count": null,
   "id": "755bca6c-053c-4310-bf77-9d7e0a1a8fa3",
   "metadata": {},
   "outputs": [],
   "source": []
  }
 ],
 "metadata": {
  "kernelspec": {
   "display_name": "Python 3 (ipykernel)",
   "language": "python",
   "name": "python3"
  },
  "language_info": {
   "codemirror_mode": {
    "name": "ipython",
    "version": 3
   },
   "file_extension": ".py",
   "mimetype": "text/x-python",
   "name": "python",
   "nbconvert_exporter": "python",
   "pygments_lexer": "ipython3",
   "version": "3.8.10"
  }
 },
 "nbformat": 4,
 "nbformat_minor": 5
}
